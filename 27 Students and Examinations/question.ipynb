{
 "cells": [
  {
   "attachments": {},
   "cell_type": "markdown",
   "metadata": {},
   "source": [
    "# Students and Examinations"
   ]
  },
  {
   "attachments": {},
   "cell_type": "markdown",
   "metadata": {},
   "source": [
    "Each row of `Students` table contains the ID and the name of one student in the school.\n",
    "\n",
    "Each row of `Subjects` table contains the name of one subject in the school.\n",
    "\n",
    "Each row of `Examinations` table indicates that a student with ID student_id attended the exam of subject_name.\n",
    "\n",
    "Each student from the Students table takes every course from the Subjects table.\n",
    "\n",
    "Write a solution to find the number of times each student attended each exam.\n",
    "\n",
    "Return the result table ordered by student_id and subject_name.\n",
    "\n",
    "Students table:\n",
    "\n",
    "| student_id | student_name |\n",
    "| ---------- | ------------ |\n",
    "| 1          | Alice        |\n",
    "| 2          | Bob          |\n",
    "| 13         | John         |\n",
    "| 6          | Alex         |\n",
    "\n",
    "Subjects table:\n",
    "\n",
    "| subject_name |\n",
    "| ------------ |\n",
    "| Math         |\n",
    "| Physics      |\n",
    "| Programming  |\n",
    "\n",
    "Examinations table:\n",
    "\n",
    "| student_id | subject_name |\n",
    "| ---------- | ------------ |\n",
    "| 1          | Math         |\n",
    "| 1          | Physics      |\n",
    "| 1          | Programming  |\n",
    "| 2          | Programming  |\n",
    "| 1          | Physics      |\n",
    "| 1          | Math         |\n",
    "| 13         | Math         |\n",
    "| 13         | Programming  |\n",
    "| 13         | Physics      |\n",
    "| 2          | Math         |\n",
    "| 1          | Math         |\n",
    "\n",
    "Output:\n",
    "\n",
    "| student_id | student_name | subject_name | attended_exams |\n",
    "| ---------- | ------------ | ------------ | -------------- |\n",
    "| 1          | Alice        | Math         | 3              |\n",
    "| 1          | Alice        | Physics      | 2              |\n",
    "| 1          | Alice        | Programming  | 1              |\n",
    "| 2          | Bob          | Math         | 1              |\n",
    "| 2          | Bob          | Physics      | 0              |\n",
    "| 2          | Bob          | Programming  | 1              |\n",
    "| 6          | Alex         | Math         | 0              |\n",
    "| 6          | Alex         | Physics      | 0              |\n",
    "| 6          | Alex         | Programming  | 0              |\n",
    "| 13         | John         | Math         | 1              |\n",
    "| 13         | John         | Physics      | 1              |\n",
    "| 13         | John         | Programming  | 1              |"
   ]
  }
 ],
 "metadata": {
  "language_info": {
   "name": "python"
  },
  "orig_nbformat": 4
 },
 "nbformat": 4,
 "nbformat_minor": 2
}
