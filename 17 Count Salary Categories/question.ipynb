{
 "cells": [
  {
   "attachments": {},
   "cell_type": "markdown",
   "metadata": {},
   "source": [
    "# Count Salary Categories"
   ]
  },
  {
   "attachments": {},
   "cell_type": "markdown",
   "metadata": {},
   "source": [
    "Each row of Accounts table contains information about the monthly income for one bank account.\n",
    "\n",
    "Write a solution to calculate the number of bank accounts for each salary category. \n",
    "\n",
    "The salary categories are:\n",
    "- `Low Salary:` All the salaries strictly less than $20000.\n",
    "- `Average Salary:` All the salaries in the inclusive range [$20000, $50000].\n",
    "- `High Salary:` All the salaries strictly greater than $50000.\n",
    "\n",
    "The result table must contain all three categories. If there are no accounts in a category, return 0.\n",
    "\n",
    "Accounts table:\n",
    "\n",
    "| account_id | income |\n",
    "| ---------- | ------ |\n",
    "| 3          | 108939 |\n",
    "| 2          | 12747  |\n",
    "| 8          | 87709  |\n",
    "| 6          | 91796  |\n",
    "\n",
    "Output:\n",
    "\n",
    "| category       | accounts_count |\n",
    "| -------------- | -------------- |\n",
    "| Low Salary     | 1              |\n",
    "| Average Salary | 0              |\n",
    "| High Salary    | 3              |"
   ]
  }
 ],
 "metadata": {
  "language_info": {
   "name": "python"
  },
  "orig_nbformat": 4
 },
 "nbformat": 4,
 "nbformat_minor": 2
}
