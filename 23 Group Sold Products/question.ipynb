{
 "cells": [
  {
   "attachments": {},
   "cell_type": "markdown",
   "metadata": {},
   "source": [
    "# Group Sold Products By The Date"
   ]
  },
  {
   "attachments": {},
   "cell_type": "markdown",
   "metadata": {},
   "source": [
    "Each row of Activities table contains the product name and the date it was sold in a market.\n",
    "\n",
    "Write a solution to find for each date the number of different products sold and their names.\n",
    "\n",
    "The sold products names for each date should be sorted lexicographically. Return the result table ordered by sell_date.\n",
    "\n",
    "Activities table:\n",
    "\n",
    "| sell_date  | product    |\n",
    "| ---------- | ---------- |\n",
    "| 2023-05-30 | Headphone  |\n",
    "| 2023-06-01 | Pencil     |\n",
    "| 2023-06-02 | Mask       |\n",
    "| 2023-05-30 | Basketball |\n",
    "| 2023-06-01 | Bible      |\n",
    "| 2023-05-30 | T-Shirt    |\n",
    "\n",
    "Output:\n",
    "| sell_date  | num_sold | products                     |\n",
    "| ---------- | -------- | ---------------------------- |\n",
    "| 2023-05-30 | 3        | Basketball,Headphone,T-shirt |\n",
    "| 2023-06-01 | 2        | Bible,Pencil                 |\n",
    "| 2023-06-02 | 1        | Mask                         |"
   ]
  }
 ],
 "metadata": {
  "language_info": {
   "name": "python"
  },
  "orig_nbformat": 4
 },
 "nbformat": 4,
 "nbformat_minor": 2
}
