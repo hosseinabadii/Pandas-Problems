{
 "cells": [
  {
   "attachments": {},
   "cell_type": "markdown",
   "metadata": {},
   "source": [
    "# Actors and Directors Who Cooperated At Least Three"
   ]
  },
  {
   "attachments": {},
   "cell_type": "markdown",
   "metadata": {},
   "source": [
    "The ActorDirector table contains actor_id, director_id, timestamp.\n",
    "\n",
    "Write a solution to find all the pairs (actor_id, director_id) where the actor has cooperated with the director at least three times.\n",
    "\n",
    "ActorDirector table:\n",
    "\n",
    "| timestamp   | actor_id    | director_id |\n",
    "| ----------- | ----------- | ----------- |\n",
    "| 0           | 1           | 1           |\n",
    "| 1           | 1           | 1           |\n",
    "| 2           | 1           | 1           |\n",
    "| 3           | 1           | 2           |\n",
    "| 4           | 1           | 2           |\n",
    "| 5           | 2           | 1           |\n",
    "| 6           | 2           | 1           |\n",
    "\n",
    "Output:\n",
    "\n",
    "| actor_id    | director_id |\n",
    "| ----------- | ----------- |\n",
    "| 1           | 1           |"
   ]
  }
 ],
 "metadata": {
  "language_info": {
   "name": "python"
  },
  "orig_nbformat": 4
 },
 "nbformat": 4,
 "nbformat_minor": 2
}
