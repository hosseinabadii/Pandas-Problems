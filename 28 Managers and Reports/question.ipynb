{
 "cells": [
  {
   "attachments": {},
   "cell_type": "markdown",
   "metadata": {},
   "source": [
    "# Managers with at Least 5 Direct Reports"
   ]
  },
  {
   "attachments": {},
   "cell_type": "markdown",
   "metadata": {},
   "source": [
    "Each row of Employee table indicates the name of an employee, their department, and the id of their manager.\n",
    "If managerId is NaN, then the employee does not have a manager.\n",
    "No employee will be the manager of themself.\n",
    "\n",
    "Write a solution to find managers with at least five direct reports.\n",
    "\n",
    "Employee table:\n",
    "\n",
    "| id  | name  | department | managerId |\n",
    "| --- | ----- | ---------- | --------- |\n",
    "| 101 | John  | A          | NaN       |\n",
    "| 102 | Dan   | A          | 101       |\n",
    "| 103 | James | B          | 106       |\n",
    "| 104 | Amy   | B          | 106       |\n",
    "| 105 | Anne  | A          | 101       |\n",
    "| 106 | Luyc  | B          | NaN       |\n",
    "| 107 | Tom   | A          | 101       |\n",
    "| 108 | Helen | B          | 106       |\n",
    "| 109 | Ron   | A          | 101       |\n",
    "| 110 | Jose  | A          | 101       |\n",
    "| 111 | Kate  | B          | 106       |\n",
    "\n",
    "Output:\n",
    "\n",
    "| name |\n",
    "| ---- |\n",
    "| John |"
   ]
  }
 ],
 "metadata": {
  "language_info": {
   "name": "python"
  },
  "orig_nbformat": 4
 },
 "nbformat": 4,
 "nbformat_minor": 2
}
