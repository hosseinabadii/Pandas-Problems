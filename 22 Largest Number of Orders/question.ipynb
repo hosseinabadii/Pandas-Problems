{
 "cells": [
  {
   "attachments": {},
   "cell_type": "markdown",
   "metadata": {},
   "source": [
    "# Customer Placing the Largest Number of Orders"
   ]
  },
  {
   "attachments": {},
   "cell_type": "markdown",
   "metadata": {},
   "source": [
    "The Orders table contains information about the order ID and the customer ID.\n",
    "\n",
    "Write a solution to find the customer_id for the customer who has placed the largest number of orders.\n",
    "\n",
    "Orders table:\n",
    "\n",
    "| order_id | customer_id |\n",
    "| -------- | ----------- |\n",
    "| 1        | 1           |\n",
    "| 2        | 2           |\n",
    "| 3        | 3           |\n",
    "| 4        | 3           |\n",
    "| 5        | 4           |\n",
    "| 6        | 5           |\n",
    "| 7        | 3           |\n",
    "| 8        | 5           |\n",
    "| 9        | 5           |\n",
    "\n",
    "Output:\n",
    "\n",
    "| customer_id |\n",
    "| ----------- |\n",
    "| 3           |\n",
    "| 5           |"
   ]
  }
 ],
 "metadata": {
  "language_info": {
   "name": "python"
  },
  "orig_nbformat": 4
 },
 "nbformat": 4,
 "nbformat_minor": 2
}
