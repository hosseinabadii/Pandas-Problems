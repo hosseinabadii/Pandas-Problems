{
 "cells": [
  {
   "attachments": {},
   "cell_type": "markdown",
   "metadata": {},
   "source": [
    "# Department Highest Salary"
   ]
  },
  {
   "attachments": {},
   "cell_type": "markdown",
   "metadata": {},
   "source": [
    "Each row of Employee table indicates the ID, name, and salary of an employee. It also contains the ID of their department.\n",
    "\n",
    "Each row of Department table indicates the ID of a department and its name.\n",
    "\n",
    "Write a solution to find employees who have the highest salary in each of the departments.\n",
    "\n",
    "Employee table:\n",
    "\n",
    "| id | name  | salary | departmentId |\n",
    "| -- | ----- | ------ | ------------ |\n",
    "| 1  | Joe   | 70000  | 1            |\n",
    "| 2  | Jim   | 90000  | 1            |\n",
    "| 3  | Henry | 80000  | 2            |\n",
    "| 4  | Sam   | 60000  | 2            |\n",
    "| 5  | Max   | 90000  | 1            |\n",
    "\n",
    "Department table:\n",
    "| id | name  |\n",
    "| -- | ----- |\n",
    "| 1  | IT    |\n",
    "| 2  | Sales |\n",
    "\n",
    "Output:\n",
    "\n",
    "| Department | Employee | Salary |\n",
    "| ---------- | -------- | ------ |\n",
    "| IT         | Jim      | 90000  |\n",
    "| Sales      | Henry    | 80000  |\n",
    "| IT         | Max      | 90000  |"
   ]
  }
 ],
 "metadata": {
  "language_info": {
   "name": "python"
  },
  "orig_nbformat": 4
 },
 "nbformat": 4,
 "nbformat_minor": 2
}
