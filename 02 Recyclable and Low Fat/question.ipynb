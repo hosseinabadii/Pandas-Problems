{
 "cells": [
  {
   "cell_type": "markdown",
   "metadata": {},
   "source": [
    "# Recyclable and Low Fat Products"
   ]
  },
  {
   "attachments": {},
   "cell_type": "markdown",
   "metadata": {},
   "source": [
    "Find the ids of products that are both low fat and recyclable from the `products.csv` file.\n",
    "\n",
    "\n",
    "Input:\n",
    "\n",
    "| product_id  | low_fats | recyclable |\n",
    "| ----------- | -------- | ---------- |\n",
    "| 0           | Y        | N          |\n",
    "| 1           | Y        | Y          |\n",
    "| 2           | N        | Y          |\n",
    "| 3           | Y        | Y          |\n",
    "| 4           | N        | N          |\n",
    "\n",
    "\n",
    "Output:\n",
    "\n",
    "product_id: 1 and 3"
   ]
  }
 ],
 "metadata": {
  "language_info": {
   "name": "python"
  },
  "orig_nbformat": 4
 },
 "nbformat": 4,
 "nbformat_minor": 2
}
