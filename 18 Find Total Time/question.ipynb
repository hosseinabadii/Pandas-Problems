{
 "cells": [
  {
   "attachments": {},
   "cell_type": "markdown",
   "metadata": {},
   "source": [
    "# Find Total Time Spent by Each Employee"
   ]
  },
  {
   "attachments": {},
   "cell_type": "markdown",
   "metadata": {},
   "source": [
    "The Employees table shows the employees' entries and exits in an office.\n",
    "\n",
    "event_day is the day at which this event happened, in_time is the minute at which the employee entered the office, and out_time is the minute at which they left the office.\n",
    "\n",
    "in_time and out_time are between 1 and 1440.\n",
    "It is guaranteed that no two events on the same day intersect in time, and in_time < out_time.\n",
    "\n",
    "Write a solution to calculate the total time in minutes spent by each employee on each day at the office. Note that within one day, an employee can enter and leave more than once. The time spent in the office for a single entry is out_time - in_time.\n",
    "\n",
    "Employees table:\n",
    "\n",
    "| emp_id | event_day  | in_time | out_time |\n",
    "| ------ | ---------- | ------- | -------- |\n",
    "| 1      | 2022-11-28 | 4       | 32       |\n",
    "| 1      | 2022-11-28 | 55      | 200      |\n",
    "| 1      | 2022-12-03 | 1       | 42       |\n",
    "| 2      | 2022-11-28 | 3       | 33       |\n",
    "| 2      | 2022-12-09 | 47      | 74       |\n",
    "\n",
    "Output:\n",
    "\n",
    "| day        | emp_id | total_time |\n",
    "| ---------- | ------ | ---------- |\n",
    "| 2022-11-28 | 1      | 173        |\n",
    "| 2022-11-28 | 2      | 30         |\n",
    "| 2022-12-03 | 1      | 41         |\n",
    "| 2022-12-09 | 2      | 27         |"
   ]
  }
 ],
 "metadata": {
  "language_info": {
   "name": "python"
  },
  "orig_nbformat": 4
 },
 "nbformat": 4,
 "nbformat_minor": 2
}
