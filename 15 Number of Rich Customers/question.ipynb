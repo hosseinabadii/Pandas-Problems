{
 "cells": [
  {
   "attachments": {},
   "cell_type": "markdown",
   "metadata": {},
   "source": [
    "# The Number of Rich Customers"
   ]
  },
  {
   "attachments": {},
   "cell_type": "markdown",
   "metadata": {},
   "source": [
    "Each row of Store table contains information about the amount of one bill and the customer associated with it.\n",
    "\n",
    "Write a solution to report the number of customers who had at least one bill with an amount strictly greater than 500.\n",
    "\n",
    "Store table:\n",
    "| bill_id | customer_id | amount |\n",
    "| ------- | ----------- | ------ |\n",
    "| 6       | 1           | 549    |\n",
    "| 8       | 1           | 834    |\n",
    "| 4       | 2           | 394    |\n",
    "| 11      | 3           | 657    |\n",
    "| 13      | 3           | 257    |\n",
    "\n",
    "Output:\n",
    "\n",
    "| rich_count |\n",
    "| ---------- |\n",
    "| 2          |"
   ]
  }
 ],
 "metadata": {
  "language_info": {
   "name": "python"
  },
  "orig_nbformat": 4
 },
 "nbformat": 4,
 "nbformat_minor": 2
}
