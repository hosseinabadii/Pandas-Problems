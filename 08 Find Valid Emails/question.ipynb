{
 "cells": [
  {
   "attachments": {},
   "cell_type": "markdown",
   "metadata": {},
   "source": [
    "# Fix Valid Emails"
   ]
  },
  {
   "attachments": {},
   "cell_type": "markdown",
   "metadata": {},
   "source": [
    "Input table contains information of the users signed up in a website. Some e-mails are invalid.\n",
    "\n",
    "A valid e-mail has a prefix name and a domain where:\n",
    "\n",
    "The prefix name is a string that may contain letters (upper or lower case), digits, underscore '_', period '.', and/or dash '-'. The prefix name must start with a letter.\n",
    "The domain is '@leetcode.com'.\n",
    "\n",
    "Write a solution to find the users who have valid emails.\n",
    "\n",
    "Input:\n",
    "\n",
    "| user_id | name      | mail                    |\n",
    "| ------- | --------- | ----------------------- |\n",
    "| 1       | Winston   | winston@leetcode.com    |\n",
    "| 2       | Jonathan  | jonathanisgreat         |\n",
    "| 3       | Annabelle | bella-@leetcode.com     |\n",
    "| 4       | Jane      | 125jane@leetcode.com    |\n",
    "| 5       | Sally     | sally.come@leetcode.com |\n",
    "| 6       | Marwan    | quarz#2020@leetcode.com |\n",
    "| 7       | David     | david69@gmail.com       |\n",
    "| 8       | Kate      | _kate45@leetcode.com    |\n",
    "| 9       | Shapiro   | .shapo@leetcode.com     |\n",
    "\n",
    "Output:\n",
    "| user_id | name      | mail                    |\n",
    "| ------- | --------- | ----------------------- |\n",
    "| 1       | Winston   | winston@leetcode.com    |\n",
    "| 3       | Annabelle | bella-@leetcode.com     |\n",
    "| 5       | Sally     | Sally.come@leetcode.com |"
   ]
  }
 ],
 "metadata": {
  "language_info": {
   "name": "python"
  },
  "orig_nbformat": 4
 },
 "nbformat": 4,
 "nbformat_minor": 2
}
