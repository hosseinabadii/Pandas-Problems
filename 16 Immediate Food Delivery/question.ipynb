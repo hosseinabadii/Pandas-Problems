{
 "cells": [
  {
   "attachments": {},
   "cell_type": "markdown",
   "metadata": {},
   "source": [
    "# Immediate Food Delivery"
   ]
  },
  {
   "attachments": {},
   "cell_type": "markdown",
   "metadata": {},
   "source": [
    "The Delivery table holds information about food delivery to customers that make orders at some date and specify a preferred delivery date (on the same order date or after it).\n",
    "\n",
    "If the customer's preferred delivery date is the same as the order date, then the order is called immediate; otherwise, it is called scheduled.\n",
    "\n",
    "Write a solution to find the percentage of immediate orders in the table, rounded to 2 decimal places.\n",
    "\n",
    "Delivery table:\n",
    "\n",
    "| delivery_id | customer_id | order_date | customer_pref_delivery_date |\n",
    "| ----------- | ----------- | ---------- | --------------------------- |\n",
    "| 1           | 1           | 2023-06-01 | 2023-06-02                  |\n",
    "| 2           | 5           | 2023-06-02 | 2023-06-02                  |\n",
    "| 3           | 1           | 2023-06-11 | 2023-06-11                  |\n",
    "| 4           | 3           | 2023-06-24 | 2023-06-26                  |\n",
    "| 5           | 4           | 2023-06-21 | 2023-06-22                  |\n",
    "| 6           | 2           | 2023-06-11 | 2023-06-13                  |\n",
    "\n",
    "Output:\n",
    "\n",
    "| immediate_percentage |\n",
    "| -------------------- |\n",
    "| 33.33                |"
   ]
  }
 ],
 "metadata": {
  "language_info": {
   "name": "python"
  },
  "orig_nbformat": 4
 },
 "nbformat": 4,
 "nbformat_minor": 2
}
