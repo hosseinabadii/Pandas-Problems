{
 "cells": [
  {
   "attachments": {},
   "cell_type": "markdown",
   "metadata": {},
   "source": [
    "# Sales Person"
   ]
  },
  {
   "attachments": {},
   "cell_type": "markdown",
   "metadata": {},
   "source": [
    "Each row of `SalesPerson` table indicates the name and the ID of a salesperson alongside their salary, commission rate, and hire date.\n",
    "\n",
    "Each row of `Company` table indicates the name and the ID of a company and the city in which the company is located.\n",
    "\n",
    "Each row of `Orders` table contains information about one order. This includes the ID of the company, the ID of the salesperson, the date of the order, and the amount paid.\n",
    "\n",
    "Write a solution to find the names of all the salespersons who did not have any orders related to the company with the name \"RED\".\n",
    "\n",
    "SalesPerson table:\n",
    "\n",
    "| sales_id | name | salary | commission_rate | hire_date  |\n",
    "| -------- | ---- | ------ | --------------- |----------- |\n",
    "| 1        | John | 100000 | 6               | 4/1/2006   |\n",
    "| 2        | Amy  | 12000  | 5               | 5/1/2010   |\n",
    "| 3        | Mark | 65000  | 12              | 12/25/2008 |\n",
    "| 4        | Pam  | 25000  | 25              | 1/1/2005   |\n",
    "| 5        | Alex | 5000   | 10              | 2/3/2007   |\n",
    "\n",
    "Company table:\n",
    "\n",
    "| com_id | name   | city     |\n",
    "| ------ | ------ | -------- |\n",
    "| 1      | RED    | Boston   |\n",
    "| 2      | ORANGE | New York |\n",
    "| 3      | YELLOW | Boston   |\n",
    "| 4      | GREEN  | Austin   |\n",
    "\n",
    "Orders table:\n",
    "\n",
    "| order_id | order_date | com_id | sales_id | amount |\n",
    "| -------- | ---------- | ------ | -------- | ------ |\n",
    "| 1        | 1/1/2014   | 3      | 4        | 10000  |\n",
    "| 2        | 2/1/2014   | 4      | 5        | 5000   |\n",
    "| 3        | 3/1/2014   | 1      | 1        | 50000  |\n",
    "| 4        | 4/1/2014   | 1      | 4        | 25000  |\n",
    "\n",
    "Output:\n",
    "\n",
    "| name |\n",
    "| ---- |\n",
    "| Amy  |\n",
    "| Mark |\n",
    "| Alex |"
   ]
  }
 ],
 "metadata": {
  "language_info": {
   "name": "python"
  },
  "orig_nbformat": 4
 },
 "nbformat": 4,
 "nbformat_minor": 2
}
