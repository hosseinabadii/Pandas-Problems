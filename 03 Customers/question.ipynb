{
 "cells": [
  {
   "cell_type": "markdown",
   "metadata": {},
   "source": [
    "# Customers Who Never Order"
   ]
  },
  {
   "attachments": {},
   "cell_type": "markdown",
   "metadata": {},
   "source": [
    "We have two table of data in `customers.csv` and `order.csv`\n",
    "\n",
    "Customers table:\n",
    "\n",
    "| id | name  |\n",
    "| -- | ----- |\n",
    "| 1  | Joe   |\n",
    "| 2  | Henry |\n",
    "| 3  | Sam   |\n",
    "| 4  | Max   |\n",
    "\n",
    "Orders table:\n",
    "| id | customerId |\n",
    "| -- | ---------- |\n",
    "| 1  | 3          |\n",
    "| 2  | 1          |\n",
    "\n",
    "Find the name of all customers who never order anything.\n",
    "\n",
    "Output:\n",
    "\n",
    "| Customers |\n",
    "| --------- |\n",
    "| Henry     |\n",
    "| Max       |"
   ]
  }
 ],
 "metadata": {
  "language_info": {
   "name": "python"
  },
  "orig_nbformat": 4
 },
 "nbformat": 4,
 "nbformat_minor": 2
}
