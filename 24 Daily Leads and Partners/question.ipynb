{
 "cells": [
  {
   "attachments": {},
   "cell_type": "markdown",
   "metadata": {},
   "source": [
    "# Daily Leads and Partners"
   ]
  },
  {
   "attachments": {},
   "cell_type": "markdown",
   "metadata": {},
   "source": [
    "The DailySales table contains the date and the name of the product sold and the IDs of the lead and partner it was sold to. \n",
    "\n",
    "For each date_id and make_name, find the number of distinct lead_id's and distinct partner_id's.\n",
    "\n",
    "DailySales table:\n",
    "\n",
    "| date_id   | make_name | lead_id | partner_id |\n",
    "| --------- | --------- | ------- | ---------- |\n",
    "| 2023-06-8 | toyota    | 0       | 1          |\n",
    "| 2023-06-8 | toyota    | 1       | 0          |\n",
    "| 2023-06-8 | toyota    | 1       | 2          |\n",
    "| 2023-06-7 | toyota    | 0       | 2          |\n",
    "| 2023-06-7 | toyota    | 0       | 1          |\n",
    "| 2023-06-8 | honda     | 1       | 2          |\n",
    "| 2023-06-8 | honda     | 2       | 1          |\n",
    "| 2023-06-7 | honda     | 0       | 1          |\n",
    "| 2023-06-7 | honda     | 1       | 2          |\n",
    "| 2023-06-7 | honda     | 2       | 1          |\n",
    "\n",
    "Output:\n",
    "\n",
    "| date_id   | make_name | unique_leads | unique_partners |\n",
    "| --------- | --------- | ------------ | --------------- |\n",
    "| 2023-06-7 | honda     | 3            | 2               |\n",
    "| 2023-06-7 | toyota    | 1            | 2               |\n",
    "| 2023-06-8 | honda     | 2            | 2               |\n",
    "| 2023-06-8 | toyota    | 2            | 3               |"
   ]
  }
 ],
 "metadata": {
  "language_info": {
   "name": "python"
  },
  "orig_nbformat": 4
 },
 "nbformat": 4,
 "nbformat_minor": 2
}
