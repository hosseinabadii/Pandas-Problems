{
 "cells": [
  {
   "attachments": {},
   "cell_type": "markdown",
   "metadata": {},
   "source": [
    "# Fix Names in a Table"
   ]
  },
  {
   "attachments": {},
   "cell_type": "markdown",
   "metadata": {},
   "source": [
    "Input table contains the ID and the name of the user. The name consists of only lowercase and uppercase characters.\n",
    "\n",
    "Fix the names so that only the first character is uppercase and the rest are lowercase. Return the result data frame ordered by user_id.\n",
    "\n",
    "Input:\n",
    "\n",
    "| user_id | name  |\n",
    "| ------- | ----- |\n",
    "| 1       | aLice |\n",
    "| 2       | bOB   |\n",
    "\n",
    "Output:\n",
    "| user_id | name  |\n",
    "| ------- | ----- |\n",
    "| 1       | Alice |\n",
    "| 2       | Bob   |"
   ]
  }
 ],
 "metadata": {
  "language_info": {
   "name": "python"
  },
  "orig_nbformat": 4
 },
 "nbformat": 4,
 "nbformat_minor": 2
}
