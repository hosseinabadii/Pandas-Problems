{
 "cells": [
  {
   "attachments": {},
   "cell_type": "markdown",
   "metadata": {},
   "source": [
    "# Replace Employee ID With The Unique Identifier"
   ]
  },
  {
   "attachments": {},
   "cell_type": "markdown",
   "metadata": {},
   "source": [
    "Each row of Employees table contains the id and the name of an employee in a company.\n",
    "\n",
    "Each row of EmployeeUNI table contains the id and the corresponding unique id of an employee in the company.\n",
    "\n",
    "Write a solution to show the unique ID of each user, If a user does not have a unique ID replace just show NaN.\n",
    "\n",
    "Employees table:\n",
    "\n",
    "| id | name     |\n",
    "|--- | -------- |\n",
    "| 1  | Alice    |\n",
    "| 7  | Bob      |\n",
    "| 11 | Meir     |\n",
    "| 90 | Winston  |\n",
    "| 3  | Jonathan |\n",
    "\n",
    "EmployeeUNI table:\n",
    "\n",
    "| id | unique_id |\n",
    "| -- | --------- |\n",
    "| 3  | 1         |\n",
    "| 11 | 2         |\n",
    "| 90 | 3         |\n",
    "\n",
    "Output:\n",
    "\n",
    "| unique_id | name     |\n",
    "| --------- | -------- |\n",
    "| NaN       | Alice    |\n",
    "| NaN       | Bob      |\n",
    "| 2         | Meir     |\n",
    "| 3         | Winston  |\n",
    "| 1         | Jonathan |"
   ]
  }
 ],
 "metadata": {
  "language_info": {
   "name": "python"
  },
  "orig_nbformat": 4
 },
 "nbformat": 4,
 "nbformat_minor": 2
}
