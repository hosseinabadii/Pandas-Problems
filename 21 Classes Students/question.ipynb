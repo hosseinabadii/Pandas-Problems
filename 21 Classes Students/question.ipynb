{
 "cells": [
  {
   "attachments": {},
   "cell_type": "markdown",
   "metadata": {},
   "source": [
    "# Classes More Than 5 Students"
   ]
  },
  {
   "attachments": {},
   "cell_type": "markdown",
   "metadata": {},
   "source": [
    "Each row of Courses table indicates the name of a student and the class in which they are enrolled.\n",
    "\n",
    "Write a solution to find all the classes that have at least five students.\n",
    "\n",
    "Courses table:\n",
    "\n",
    "| student | class    |\n",
    "| ------- | -------- |\n",
    "| A       | Math     |\n",
    "| B       | English  |\n",
    "| C       | Math     |\n",
    "| D       | Biology  |\n",
    "| E       | Math     |\n",
    "| F       | Computer |\n",
    "| G       | Math     |\n",
    "| H       | Math     |\n",
    "| I       | Math     |\n",
    "\n",
    "Output:\n",
    "\n",
    "| class   |\n",
    "| ------- |\n",
    "| Math    |"
   ]
  }
 ],
 "metadata": {
  "language_info": {
   "name": "python"
  },
  "orig_nbformat": 4
 },
 "nbformat": 4,
 "nbformat_minor": 2
}
