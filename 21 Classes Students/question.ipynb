{
 "cells": [
  {
   "attachments": {},
   "cell_type": "markdown",
   "metadata": {},
   "source": [
    "# Classes More Than 5 Students\n"
   ]
  },
  {
   "attachments": {},
   "cell_type": "markdown",
   "metadata": {},
   "source": [
    "Each row of Courses table indicates the name of a student and the class in which they are enrolled.\n",
    "\n",
    "Write a solution to find all the classes that have at least four students.\n",
    "\n",
    "Courses table:\n",
    "\n",
    "| student | class    |\n",
    "| ------- | -------- |\n",
    "| A       | Computer |\n",
    "| B       | Math     |\n",
    "| C       | English  |\n",
    "| D       | Math     |\n",
    "| E       | Biology  |\n",
    "| F       | Math     |\n",
    "| G       | Computer |\n",
    "| H       | Math     |\n",
    "| I       | Math     |\n",
    "| J       | Computer |\n",
    "| K       | Computer |\n",
    "| L       | Math     |\n",
    "\n",
    "Output:\n",
    "\n",
    "| class    | count |\n",
    "| -------- | ----- |\n",
    "| Computer | 4     |\n",
    "| Math     | 6     |\n"
   ]
  }
 ],
 "metadata": {
  "language_info": {
   "name": "python"
  },
  "orig_nbformat": 4
 },
 "nbformat": 4,
 "nbformat_minor": 2
}
