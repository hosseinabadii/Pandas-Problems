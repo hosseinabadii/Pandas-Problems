{
 "cells": [
  {
   "attachments": {},
   "cell_type": "markdown",
   "metadata": {},
   "source": [
    "# Rank Scores"
   ]
  },
  {
   "attachments": {},
   "cell_type": "markdown",
   "metadata": {},
   "source": [
    "Each row of this table contains the score of a game. Score is a floating point value with two decimal places.\n",
    "\n",
    "Write a solution to find the rank of the scores. The ranking should be calculated according to the following rules:\n",
    "\n",
    "- The scores should be ranked from the highest to the lowest.\n",
    "- If there is a tie between two scores, both should have the same ranking.\n",
    "- After a tie, the next ranking number should be the next consecutive integer value. In other words, there should be no holes between ranks.\n",
    "- Return the result table ordered by score in descending order.\n",
    "\n",
    "Scores:\n",
    "\n",
    "| id | score |\n",
    "| -- | ----- |\n",
    "| 1  | 3.50  |\n",
    "| 2  | 3.65  |\n",
    "| 3  | 4.00  |\n",
    "| 4  | 3.85  |\n",
    "| 5  | 4.00  |\n",
    "| 6  | 3.65  |\n",
    "\n",
    "Output:\n",
    "\n",
    "| score | rank |\n",
    "| ----- | ---- |\n",
    "| 4.00  | 1    |\n",
    "| 4.00  | 1    |\n",
    "| 3.85  | 2    |\n",
    "| 3.65  | 3    |\n",
    "| 3.65  | 3    |\n",
    "| 3.50  | 4    |"
   ]
  }
 ],
 "metadata": {
  "language_info": {
   "name": "python"
  },
  "orig_nbformat": 4
 },
 "nbformat": 4,
 "nbformat_minor": 2
}
