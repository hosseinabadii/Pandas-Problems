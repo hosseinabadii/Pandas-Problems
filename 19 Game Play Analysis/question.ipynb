{
 "cells": [
  {
   "attachments": {},
   "cell_type": "markdown",
   "metadata": {},
   "source": [
    "# Game Play Analysis"
   ]
  },
  {
   "attachments": {},
   "cell_type": "markdown",
   "metadata": {},
   "source": [
    "The Activity table shows the activity of players of some games.\n",
    "Each row is a record of a player who logged in and played a number of games (possibly 0) before logging out on someday using some device.\n",
    "\n",
    "Write a solution to find the first login date for each player.\n",
    "\n",
    "Activity table:\n",
    "\n",
    "| player_id | device_id | event_date | games_played |\n",
    "| --------- | --------- | ---------- | ------------ |\n",
    "| 1         | 2         | 2021-03-01 | 5            |\n",
    "| 1         | 2         | 2021-05-02 | 6            |\n",
    "| 2         | 3         | 2022-06-25 | 1            |\n",
    "| 3         | 1         | 2021-03-02 | 0            |\n",
    "| 3         | 4         | 2023-07-03 | 5            |\n",
    "\n",
    "Output:\n",
    "| player_id | first_login |\n",
    "| --------- | ----------- |\n",
    "| 1         | 2021-03-01  |\n",
    "| 2         | 2022-06-25  |\n",
    "| 3         | 2021-03-02  |"
   ]
  }
 ],
 "metadata": {
  "language_info": {
   "name": "python"
  },
  "orig_nbformat": 4
 },
 "nbformat": 4,
 "nbformat_minor": 2
}
