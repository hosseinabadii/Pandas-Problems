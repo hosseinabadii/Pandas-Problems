{
 "cells": [
  {
   "attachments": {},
   "cell_type": "markdown",
   "metadata": {},
   "source": [
    "# Article View"
   ]
  },
  {
   "attachments": {},
   "cell_type": "markdown",
   "metadata": {},
   "source": [
    "Each row of input table indicates that some viewer viewed an article (written by some author) on some date.\n",
    "Note that equal author_id and viewer_id indicate the same person.\n",
    "\n",
    "Write a solution to find all the authors that viewed at least one of their own articles.\n",
    "\n",
    "Input:\n",
    "\n",
    "| article_id | author_id | viewer_id | view_date  |\n",
    "| ---------- | --------- | --------- | ---------- |\n",
    "| 1          | 3         | 5         | 2019-08-01 |\n",
    "| 1          | 3         | 6         | 2019-08-02 |\n",
    "| 2          | 7         | 7         | 2019-08-01 |\n",
    "| 2          | 7         | 6         | 2019-08-02 |\n",
    "| 3          | 4         | 4         | 2019-07-21 |\n",
    "| 3          | 4         | 4         | 2019-07-21 |\n",
    "| 4          | 7         | 1         | 2019-07-22 |\n",
    "\n",
    "Output:\n",
    "\n",
    "| id   |\n",
    "| ---- |\n",
    "| 4    |\n",
    "| 7    |"
   ]
  }
 ],
 "metadata": {
  "language_info": {
   "name": "python"
  },
  "orig_nbformat": 4
 },
 "nbformat": 4,
 "nbformat_minor": 2
}
