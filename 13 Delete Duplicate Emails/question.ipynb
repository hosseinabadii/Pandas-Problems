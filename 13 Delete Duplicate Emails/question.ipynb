{
 "cells": [
  {
   "attachments": {},
   "cell_type": "markdown",
   "metadata": {},
   "source": [
    "# Delete Duplicate Emails"
   ]
  },
  {
   "attachments": {},
   "cell_type": "markdown",
   "metadata": {},
   "source": [
    "Each row of Person table contains an email. The emails will not contain uppercase letters.\n",
    "\n",
    "Write a solution to delete all duplicate emails, keeping only one unique email with the smallest id.\n",
    "\n",
    "Person table:\n",
    "\n",
    "| id | email             |\n",
    "| -- | ----------------- |\n",
    "| 1  | john@example.com  |\n",
    "| 2  | bob@example.com   |\n",
    "| 3  | john@example.com  |\n",
    "| 4  | john@example.com  |\n",
    "| 5  | john@example.com  |\n",
    "| 6  | alice@example.com |\n",
    "\n",
    "Output:\n",
    "\n",
    "| id | email             |\n",
    "| -- | ----------------- |\n",
    "| 1  | john@example.com  |\n",
    "| 2  | bob@example.com   |\n",
    "| 6  | alice@example.com |"
   ]
  }
 ],
 "metadata": {
  "language_info": {
   "name": "python"
  },
  "orig_nbformat": 4
 },
 "nbformat": 4,
 "nbformat_minor": 2
}
