{
 "cells": [
  {
   "attachments": {},
   "cell_type": "markdown",
   "metadata": {},
   "source": [
    "# Nth Highest Salary"
   ]
  },
  {
   "attachments": {},
   "cell_type": "markdown",
   "metadata": {},
   "source": [
    "Each row of Input table contains information about the salary of an employee.\n",
    "\n",
    "Write a solution to find the nth highest salary from the Employee table. If there is no nth highest salary, return `None`.\n",
    "\n",
    "Input:\n",
    "\n",
    "| id | salary |\n",
    "| -- | ------ |\n",
    "| 1  | 100    |\n",
    "| 2  | 200    |\n",
    "| 3  | 300    |\n",
    "\n",
    "Output:\n",
    "\n",
    "| getNthHighestSalary(2) |\n",
    "| ---------------------- |\n",
    "| 200                    |"
   ]
  }
 ],
 "metadata": {
  "language_info": {
   "name": "python"
  },
  "orig_nbformat": 4
 },
 "nbformat": 4,
 "nbformat_minor": 2
}
