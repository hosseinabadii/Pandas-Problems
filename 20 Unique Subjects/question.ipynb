{
 "cells": [
  {
   "attachments": {},
   "cell_type": "markdown",
   "metadata": {},
   "source": [
    "# Number of Unique Subjects Taught by Each Teacher"
   ]
  },
  {
   "attachments": {},
   "cell_type": "markdown",
   "metadata": {},
   "source": [
    "Each row in Teacher table indicates that the teacher with teacher_id teaches the subject subject_id in the department dept_id.\n",
    "\n",
    "Write a solution to calculate the number of unique subjects each teacher teaches in the university.\n",
    "\n",
    "Teacher table:\n",
    "\n",
    "| teacher_id | subject_id | dept_id |\n",
    "| ---------- | ---------- | ------- |\n",
    "| 1          | 2          | 3       |\n",
    "| 1          | 2          | 4       |\n",
    "| 1          | 3          | 3       |\n",
    "| 2          | 1          | 1       |\n",
    "| 2          | 2          | 1       |\n",
    "| 2          | 3          | 1       |\n",
    "| 2          | 4          | 1       |\n",
    "\n",
    "Output:\n",
    "\n",
    "| teacher_id | count |\n",
    "| ---------- | ----- |\n",
    "| 1          | 2     |\n",
    "| 2          | 4     |"
   ]
  }
 ],
 "metadata": {
  "language_info": {
   "name": "python"
  },
  "orig_nbformat": 4
 },
 "nbformat": 4,
 "nbformat_minor": 2
}
