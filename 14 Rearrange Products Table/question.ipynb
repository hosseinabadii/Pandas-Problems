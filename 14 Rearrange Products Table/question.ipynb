{
 "cells": [
  {
   "attachments": {},
   "cell_type": "markdown",
   "metadata": {},
   "source": [
    "# Rearrange Products Table"
   ]
  },
  {
   "attachments": {},
   "cell_type": "markdown",
   "metadata": {},
   "source": [
    "Each row in Products table indicates the product's price in 3 different stores: store1, store2, and store3.\n",
    "If the product is not available in a store, the price will be NaN in that store's column.\n",
    "\n",
    "Write a solution to rearrange the Products table so that each row has (product_id, store, price). If a product is not available in a store, do not include a row with that product_id and store combination in the result table.\n",
    "\n",
    "Products table:\n",
    "\n",
    "| product_id | store1 | store2 | store3 |\n",
    "| ---------- | ------ | ------ | ------ |\n",
    "| 0          | 95     | 100    | 105    |\n",
    "| 1          | 70     | NaN    | 80     |\n",
    "\n",
    "Output:\n",
    "\n",
    "| product_id | store  | price |\n",
    "| ---------- | ------ | ----- |\n",
    "| 0          | store1 | 95    |\n",
    "| 0          | store2 | 100   |\n",
    "| 0          | store3 | 105   |\n",
    "| 1          | store1 | 70    |\n",
    "| 1          | store3 | 80    |"
   ]
  }
 ],
 "metadata": {
  "language_info": {
   "name": "python"
  },
  "orig_nbformat": 4
 },
 "nbformat": 4,
 "nbformat_minor": 2
}
