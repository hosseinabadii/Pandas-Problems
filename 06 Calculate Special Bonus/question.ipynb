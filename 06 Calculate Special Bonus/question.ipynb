{
 "cells": [
  {
   "attachments": {},
   "cell_type": "markdown",
   "metadata": {},
   "source": [
    "# Calculate Special Bonus"
   ]
  },
  {
   "attachments": {},
   "cell_type": "markdown",
   "metadata": {},
   "source": [
    "Each row of input table indicates the employee ID, employee name, and salary.\n",
    "\n",
    "Write a solution to calculate the bonus of each employee. The bonus of an employee is 100% of their salary if the ID of the employee is an odd number and the employee's name does not start with the character 'M'. The bonus of an employee is 0 otherwise.\n",
    "\n",
    "Input:\n",
    "\n",
    "| employee_id | name    | salary |\n",
    "| ----------- | ------- | ------ |\n",
    "| 2           | Meir    | 3000   |\n",
    "| 3           | Michael | 3800   |\n",
    "| 7           | Addilyn | 7400   |\n",
    "| 8           | Juan    | 6100   |\n",
    "| 9           | Kannon  | 7700   |\n",
    "\n",
    "Output:\n",
    "\n",
    "| employee_id | bonus |\n",
    "| ----------- | ----- |\n",
    "| 2           | 0     |\n",
    "| 3           | 0     |\n",
    "| 7           | 7400  |\n",
    "| 8           | 0     |\n",
    "| 9           | 7700  |"
   ]
  }
 ],
 "metadata": {
  "language_info": {
   "name": "python"
  },
  "orig_nbformat": 4
 },
 "nbformat": 4,
 "nbformat_minor": 2
}
